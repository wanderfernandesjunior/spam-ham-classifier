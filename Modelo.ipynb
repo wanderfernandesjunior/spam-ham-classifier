{
 "cells": [
  {
   "cell_type": "markdown",
   "metadata": {},
   "source": [
    "# Machine Learning - Spam ou Ham\n",
    "\n",
    "Base de Dados Utilizada: http://nlp.cs.aueb.gr/software_and_datasets/Enron-Spam/index.html  \n",
    "(obtido da página 105 do livro \"Doing Data Science\")"
   ]
  },
  {
   "cell_type": "code",
   "execution_count": 1,
   "metadata": {},
   "outputs": [],
   "source": [
    "# Carregamento dos dados\n",
    "import numpy as np\n",
    "import pandas as pd\n",
    "from sklearn.datasets import load_files\n",
    "\n",
    "X, y = [], []\n",
    "for i in range(1,7):\n",
    "    emails = load_files(f\"enron{i}\")\n",
    "    X = np.append(X, emails.data)\n",
    "    y = np.append(y, emails.target)\n",
    "\n",
    "classes = emails.target_names"
   ]
  },
  {
   "cell_type": "code",
   "execution_count": 2,
   "metadata": {},
   "outputs": [
    {
     "name": "stdout",
     "output_type": "stream",
     "text": [
      "X.shape: (33715,)\n",
      "y.shape: (33715,)\n",
      "\n",
      "\n",
      "Exemplo X[0]: b'Subject: nesa / hea \\' s 24 th annual meeting\\r\\nsaddle up for nesa / hea \\' s 24 th annual meeting\\r\\n\" deep in the heart of texas \"\\r\\nseptember 9 - 11 , 2001\\r\\nhyatt regency hill country resort\\r\\nsan antonio , texas\\r\\nthe annual meeting planning committee has put together an outstanding\\r\\nprogram for your review . it is attached below in an adobe acrobat pdf file\\r\\n- if you have problems with the attachment please call nesa / hea\\r\\nheadquarters at ( 713 ) 856 - 6525 and we \\' ll mail or fax a copy out immediately .\\r\\ngeneral session topics include :\\r\\n* will tomorrow \\' s restructured electric infrastructure support\\r\\ntomorrow \\' s economy ?\\r\\n* power deregulation panel : developer / ipp , utility / transmission , power\\r\\nmarketer , government , retail\\r\\n* power demand\\r\\n* the state of the energy industry\\r\\n* new political administration - impact on energy policy and\\r\\nenvironment\\r\\nnetworking opportunities :\\r\\n* opening reception - sunday , september 9\\r\\n* golf tournament & tours of area attractions - monday , september 10\\r\\nthe hyatt regency hill country resort has a limited block of rooms available\\r\\nfor nesa / hea members and guests - be sure to check page 6 for lodging\\r\\ninformation and make your reservation as soon as possible .\\r\\nwe hope that you take this opportunity to meet with your colleagues and\\r\\ncustomers in this relaxing yet professional environment to exchange ideas on\\r\\nmatters of importance covering a broad spectrum of subjects . the annual\\r\\nmeeting agenda includes timely issues presented by knowledgeable industry\\r\\nleaders who will discuss formidable and thought provoking issues affecting\\r\\nthe energy industry today .\\r\\nplease take a moment to review the attached brochure . nesa / hea encourages\\r\\nand appreciates you taking the time to pass the brochure on to industry\\r\\npersonnel who would benefit from participating at this conference .\\r\\nnesa / hea \\' s 24 th annual meeting\\r\\neducating the energy professional\\r\\nto unsubscribe from the nesa / hea member email blast list please respond to\\r\\nthis email with the word unsubscribe typed into the subject field . this\\r\\nwill preclude you from receiving any email blasts in the future , but hard\\r\\ncopies of the material will be sent to your attention .\\r\\n>\\r\\n- 512 _ nesa 2001 annlmtgjam . pdf'\n",
      "\n",
      "\n",
      "Classe X[0]: 0.0 (ham)\n"
     ]
    }
   ],
   "source": [
    "# Verificação dos dados - tamanho e imprimir exemplo\n",
    "print(f\"X.shape: {X.shape:}\")\n",
    "print(f\"y.shape: {y.shape}\")\n",
    "print(\"\\n\")\n",
    "print(f\"Exemplo X[0]: {X[0]}\")\n",
    "print(\"\\n\")\n",
    "print(f\"Classe X[0]: {y[0]} ({classes[int(y[0])]})\")"
   ]
  },
  {
   "cell_type": "code",
   "execution_count": 3,
   "metadata": {},
   "outputs": [
    {
     "data": {
      "text/plain": [
       "<function matplotlib.pyplot.show(*args, **kw)>"
      ]
     },
     "execution_count": 3,
     "metadata": {},
     "output_type": "execute_result"
    },
    {
     "data": {
      "image/png": "[encoded data removed]",
      "text/plain": [
       "<Figure size 432x288 with 1 Axes>"
      ]
     },
     "metadata": {
      "needs_background": "light"
     },
     "output_type": "display_data"
    }
   ],
   "source": [
    "# Verificação dos dados - distribuição do target (classes balanceadas)\n",
    "\n",
    "from collections import Counter\n",
    "import matplotlib.pyplot as plt\n",
    "%matplotlib inline\n",
    "\n",
    "plt.bar(Counter(y).keys(), Counter(y).values(),tick_label =('spam', 'ham'))\n",
    "plt.show"
   ]
  },
  {
   "cell_type": "code",
   "execution_count": 4,
   "metadata": {},
   "outputs": [],
   "source": [
    "# Limpeza dos dados\n",
    "import re\n",
    "\n",
    "X_tratado = []\n",
    "\n",
    "for email in range(0, len(X)): \n",
    "    \n",
    "    # Remover caracteres especiais\n",
    "    texto = re.sub(r'\\\\r\\\\n', ' ', str(X[email]))\n",
    "    texto = re.sub(r'\\W', ' ', texto)\n",
    "    \n",
    "    # Remove caracteres simples de uma letra\n",
    "    texto = re.sub(r'\\s+[a-zA-Z]\\s+', ' ', texto)\n",
    "    texto = re.sub(r'\\^[a-zA-Z]\\s+', ' ', texto) \n",
    "\n",
    "    # Substitui multiplos espaços por um unico espaço\n",
    "    texto = re.sub(r'\\s+', ' ', texto, flags=re.I)\n",
    "\n",
    "    # Remove o 'b' que aparece no começo\n",
    "    texto = re.sub(r'^b\\s+', '', texto)\n",
    "\n",
    "    # Converte para minúsculo\n",
    "    texto = texto.lower()\n",
    "\n",
    "    X_tratado.append(texto)"
   ]
  },
  {
   "cell_type": "code",
   "execution_count": 5,
   "metadata": {},
   "outputs": [
    {
     "name": "stdout",
     "output_type": "stream",
     "text": [
      "Exemplo X[0]: subject nesa hea 24 th annual meeting saddle up for nesa hea 24 th annual meeting deep in the heart of texas september 9 11 2001 hyatt regency hill country resort san antonio texas the annual meeting planning committee has put together an outstanding program for your review it is attached below in an adobe acrobat pdf file if you have problems with the attachment please call nesa hea headquarters at 713 856 6525 and we ll mail or fax copy out immediately general session topics include will tomorrow restructured electric infrastructure support tomorrow economy power deregulation panel developer ipp utility transmission power marketer government retail power demand the state of the energy industry new political administration impact on energy policy and environment networking opportunities opening reception sunday september 9 golf tournament tours of area attractions monday september 10 the hyatt regency hill country resort has limited block of rooms available for nesa hea members and guests be sure to check page 6 for lodging information and make your reservation as soon as possible we hope that you take this opportunity to meet with your colleagues and customers in this relaxing yet professional environment to exchange ideas on matters of importance covering broad spectrum of subjects the annual meeting agenda includes timely issues presented by knowledgeable industry leaders who will discuss formidable and thought provoking issues affecting the energy industry today please take moment to review the attached brochure nesa hea encourages and appreciates you taking the time to pass the brochure on to industry personnel who would benefit from participating at this conference nesa hea 24 th annual meeting educating the energy professional to unsubscribe from the nesa hea member email blast list please respond to this email with the word unsubscribe typed into the subject field this will preclude you from receiving any email blasts in the future but hard copies of the material will be sent to your attention 512 _ nesa 2001 annlmtgjam pdf \n",
      "\n",
      "\n",
      "Classe X[0]: 0.0 (ham)\n"
     ]
    }
   ],
   "source": [
    "print(f\"Exemplo X[0]: {X_tratado[0]}\")\n",
    "print(\"\\n\")\n",
    "print(f\"Classe X[0]: {y[0]} ({classes[int(y[0])]})\")"
   ]
  },
  {
   "cell_type": "code",
   "execution_count": 6,
   "metadata": {},
   "outputs": [],
   "source": [
    "# Separa os dados em conjunto de treinamento e teste\n",
    "from sklearn.model_selection import train_test_split  \n",
    "\n",
    "X_train, X_test, y_train, y_test = train_test_split(X_tratado, y, test_size=0.3)"
   ]
  },
  {
   "cell_type": "code",
   "execution_count": 7,
   "metadata": {},
   "outputs": [
    {
     "name": "stdout",
     "output_type": "stream",
     "text": [
      "Acurácia de treinamento: 99.14%\n",
      "Acurácia de teste: 98.71%\n",
      "\n",
      "Matriz de confusão do set de teste:\n"
     ]
    },
    {
     "data": {
      "text/html": [
       "<div>\n",
       "<style scoped>\n",
       "    .dataframe tbody tr th:only-of-type {\n",
       "        vertical-align: middle;\n",
       "    }\n",
       "\n",
       "    .dataframe tbody tr th {\n",
       "        vertical-align: top;\n",
       "    }\n",
       "\n",
       "    .dataframe thead th {\n",
       "        text-align: right;\n",
       "    }\n",
       "</style>\n",
       "<table border=\"1\" class=\"dataframe\">\n",
       "  <thead>\n",
       "    <tr style=\"text-align: right;\">\n",
       "      <th>Previsto</th>\n",
       "      <th>0.0</th>\n",
       "      <th>1.0</th>\n",
       "    </tr>\n",
       "    <tr>\n",
       "      <th>Real</th>\n",
       "      <th></th>\n",
       "      <th></th>\n",
       "    </tr>\n",
       "  </thead>\n",
       "  <tbody>\n",
       "    <tr>\n",
       "      <th>0.0</th>\n",
       "      <td>4946</td>\n",
       "      <td>51</td>\n",
       "    </tr>\n",
       "    <tr>\n",
       "      <th>1.0</th>\n",
       "      <td>79</td>\n",
       "      <td>5039</td>\n",
       "    </tr>\n",
       "  </tbody>\n",
       "</table>\n",
       "</div>"
      ],
      "text/plain": [
       "Previsto   0.0   1.0\n",
       "Real                \n",
       "0.0       4946    51\n",
       "1.0         79  5039"
      ]
     },
     "execution_count": 7,
     "metadata": {},
     "output_type": "execute_result"
    }
   ],
   "source": [
    "# Aplicação do classificador Naive Bayes\n",
    "from sklearn.pipeline import Pipeline\n",
    "from sklearn.feature_extraction.text import TfidfVectorizer\n",
    "from sklearn.naive_bayes import MultinomialNB\n",
    "from sklearn.metrics import accuracy_score\n",
    "\n",
    "clf_pipeline = Pipeline([\n",
    "    ('tfidf_vectorizer', TfidfVectorizer()),\n",
    "    ('classificador', MultinomialNB())])\n",
    "\n",
    "clf_pipeline.fit(X_train, y_train)\n",
    "predictions = clf_pipeline.predict(X_train)\n",
    "score = accuracy_score(y_train,predictions)\n",
    "print(f\"Acurácia de treinamento: {score*100:.2f}%\")\n",
    "\n",
    "predictions_test = clf_pipeline.predict(X_test)\n",
    "score = accuracy_score(y_test, predictions_test)\n",
    "print(f\"Acurácia de teste: {score*100:.2f}%\")\n",
    "print()\n",
    "\n",
    "print(\"Matriz de confusão do set de teste:\")\n",
    "y_true = pd.Series(y_test, name='Real')\n",
    "y_pred = pd.Series(predictions_test, name='Previsto')\n",
    "pd.crosstab(y_true, y_pred)"
   ]
  },
  {
   "cell_type": "code",
   "execution_count": 8,
   "metadata": {},
   "outputs": [
    {
     "name": "stdout",
     "output_type": "stream",
     "text": [
      "Classe prevista: [0.] = ham com probabilidade 98.29%\n"
     ]
    }
   ],
   "source": [
    "# Teste de previsão em um texto novo de e-mail:\n",
    "\n",
    "texto = \"\"\"Folks.\n",
    "I have a meeting today to discuss a research project, and then I was invited to a meeting with the campus \n",
    "board about continuing the Data Science specialization course.\n",
    "This second meeting is expected to start at 5 pm and will likely extend until after our class start time.\n",
    "That way, I think it's best to release you from today's class.\n",
    "Today's content is “data wrangling,” which corresponds to chapters 5 through 8 of the book Python for \n",
    "Data Analysis, which is part of the file I sent you earlier this semester. Please read these chapters \n",
    "(they are short) and do the exercises during this week.\n",
    "In our next class we will start with a section of questions about these materials and then we will talk \n",
    "about feature selection selection.\n",
    "See you on the 31st, then.\n",
    "Regards, Jefferson Andrade.\"\"\"\n",
    "\n",
    "previsao = clf_pipeline.predict([texto])\n",
    "probabilidade  = np.max(clf_pipeline.predict_proba([texto]))\n",
    "\n",
    "print(f\"Classe prevista: {previsao} = {classes[int(previsao)]} com probabilidade {probabilidade*100:.2f}%\")"
   ]
  },
  {
   "cell_type": "code",
   "execution_count": 9,
   "metadata": {},
   "outputs": [
    {
     "name": "stdout",
     "output_type": "stream",
     "text": [
      "Texto: Folks.\n",
      "I have a meeting today to discuss a research project, and then I was invited to a meeting with the campus \n",
      "board about continuing the Data Science specialization course.\n",
      "This second meeting is expected to start at 5 pm and will likely extend until after our class start time.\n",
      "That way, I think it's best to release you from today's class.\n",
      "Today's content is “data wrangling,” which corresponds to chapters 5 through 8 of the book Python for \n",
      "Data Analysis, which is part of the file I sent you earlier this semester. Please read these chapters \n",
      "(they are short) and do the exercises during this week.\n",
      "In our next class we will start with a section of questions about these materials and then we will talk \n",
      "about feature selection selection.\n",
      "See you on the 31st, then.\n",
      "Regards, Jefferson Andrade.\n",
      "\n",
      "\n",
      "Classe prevista: [0.] = ham com probabilidade 98.29%\n"
     ]
    }
   ],
   "source": [
    "# Função que receba o nome do arquivo com a mensagem e informe se a mensagem é ou não spam\n",
    "\n",
    "def prever_spam_ham(caminho):\n",
    "    arquivo = open(caminho,\"r\", encoding=\"utf8\") \n",
    "    texto = arquivo.read()\n",
    "    arquivo.close()\n",
    "    previsao = clf_pipeline.predict([texto])\n",
    "    probabilidade  = np.max(clf_pipeline.predict_proba([texto]))\n",
    "    print(f\"Texto: {texto}\")\n",
    "    print(\"\\n\")\n",
    "    print(f\"Classe prevista: {previsao} = {classes[int(previsao)]} com probabilidade {probabilidade*100:.2f}%\")\n",
    "    \n",
    "prever_spam_ham(\"texto.txt\")"
   ]
  },
  {
   "cell_type": "code",
   "execution_count": 10,
   "metadata": {},
   "outputs": [
    {
     "data": {
      "text/plain": [
       "['modelo.pkl']"
      ]
     },
     "execution_count": 10,
     "metadata": {},
     "output_type": "execute_result"
    }
   ],
   "source": [
    "# Salvar modelo em Joblib\n",
    "import joblib\n",
    "\n",
    "joblib.dump(clf_pipeline, 'modelo.pkl')"
   ]
  },
  {
   "cell_type": "code",
   "execution_count": 11,
   "metadata": {},
   "outputs": [],
   "source": [
    "# Fim"
   ]
  }
 ],
 "metadata": {
  "kernelspec": {
   "display_name": "Python 3",
   "language": "python",
   "name": "python3"
  },
  "language_info": {
   "codemirror_mode": {
    "name": "ipython",
    "version": 3
   },
   "file_extension": ".py",
   "mimetype": "text/x-python",
   "name": "python",
   "nbconvert_exporter": "python",
   "pygments_lexer": "ipython3",
   "version": "3.7.4"
  }
 },
 "nbformat": 4,
 "nbformat_minor": 2
}